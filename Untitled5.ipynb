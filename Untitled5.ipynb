{
  "nbformat": 4,
  "nbformat_minor": 0,
  "metadata": {
    "colab": {
      "provenance": [],
      "authorship_tag": "ABX9TyPRmlajQtE2bgBoeusUzGDp",
      "include_colab_link": true
    },
    "kernelspec": {
      "name": "python3",
      "display_name": "Python 3"
    },
    "language_info": {
      "name": "python"
    }
  },
  "cells": [
    {
      "cell_type": "markdown",
      "metadata": {
        "id": "view-in-github",
        "colab_type": "text"
      },
      "source": [
        "<a href=\"https://colab.research.google.com/github/khansadinda14/TUGAS-BESAR/blob/main/Untitled5.ipynb\" target=\"_parent\"><img src=\"https://colab.research.google.com/assets/colab-badge.svg\" alt=\"Open In Colab\"/></a>"
      ]
    },
    {
      "cell_type": "code",
      "source": [
        "y"
      ],
      "metadata": {
        "colab": {
          "base_uri": "https://localhost:8080/",
          "height": 404
        },
        "id": "pggDE5EW2KF2",
        "outputId": "af7c2dfd-0a7d-42b4-dba2-ee9b1e2ba135"
      },
      "execution_count": null,
      "outputs": [
        {
          "output_type": "stream",
          "name": "stdout",
          "text": [
            "Data Akhir:\n",
            "+----+----------------------------------------------------------------------------------------------------+------------+----------+--------+-------+-------+---------+---------+----------+--------+---------+------------+\n",
            "|    | PassengerId                                                                                        |   Survived |   Pclass |   Name |   Sex |   Age |   SibSp |   Parch |   Ticket |   Fare |   Cabin |   Embarked |\n",
            "|----+----------------------------------------------------------------------------------------------------+------------+----------+--------+-------+-------+---------+---------+----------+--------+---------+------------|\n",
            "|  0 | 1,0,3,\"Braund, Mr. Owen Harris\",male,22.0,1,0,A/5 21171,7.25,,S                                    |        nan |      nan |    nan |   nan |   nan |     nan |     nan |      nan |    nan |     nan |        nan |\n",
            "|  1 | 2,1,1,\"Cumings, Mrs. John Bradley (Florence Briggs Thayer)\",female,38.0,1,0,PC 17599,71.2833,C85,C |        nan |      nan |    nan |   nan |   nan |     nan |     nan |      nan |    nan |     nan |        nan |\n",
            "|  2 | 3,1,3,\"Heikkinen, Miss. Laina\",female,26.0,0,0,STON/O2. 3101282,7.925,,S                           |        nan |      nan |    nan |   nan |   nan |     nan |     nan |      nan |    nan |     nan |        nan |\n",
            "|  3 | 4,1,1,\"Futrelle, Mrs. Jacques Heath (Lily May Peel)\",female,35.0,1,0,113803,53.1,C123,S            |        nan |      nan |    nan |   nan |   nan |     nan |     nan |      nan |    nan |     nan |        nan |\n",
            "|  4 | 5,0,3,\"Allen, Mr. William Henry\",male,35.0,0,0,373450,8.05,,S                                      |        nan |      nan |    nan |   nan |   nan |     nan |     nan |      nan |    nan |     nan |        nan |\n",
            "+----+----------------------------------------------------------------------------------------------------+------------+----------+--------+-------+-------+---------+---------+----------+--------+---------+------------+\n"
          ]
        },
        {
          "output_type": "error",
          "ename": "NameError",
          "evalue": "name 'y' is not defined",
          "traceback": [
            "\u001b[0;31m---------------------------------------------------------------------------\u001b[0m",
            "\u001b[0;31mNameError\u001b[0m                                 Traceback (most recent call last)",
            "\u001b[0;32m<ipython-input-9-663c3cfb1634>\u001b[0m in \u001b[0;36m<cell line: 31>\u001b[0;34m()\u001b[0m\n\u001b[1;32m     29\u001b[0m \u001b[0;31m# Normalisasi fitur\u001b[0m\u001b[0;34m\u001b[0m\u001b[0;34m\u001b[0m\u001b[0m\n\u001b[1;32m     30\u001b[0m \u001b[0mscaler\u001b[0m\u001b[0;34m=\u001b[0m\u001b[0mStandardScaler\u001b[0m\u001b[0;34m(\u001b[0m\u001b[0;34m)\u001b[0m\u001b[0;34m\u001b[0m\u001b[0;34m\u001b[0m\u001b[0m\n\u001b[0;32m---> 31\u001b[0;31m \u001b[0my_scaled\u001b[0m\u001b[0;34m=\u001b[0m\u001b[0mscaler\u001b[0m\u001b[0;34m.\u001b[0m\u001b[0mfit_transform\u001b[0m\u001b[0;34m(\u001b[0m\u001b[0my\u001b[0m\u001b[0;34m)\u001b[0m\u001b[0;34m\u001b[0m\u001b[0;34m\u001b[0m\u001b[0m\n\u001b[0m\u001b[1;32m     32\u001b[0m \u001b[0;34m\u001b[0m\u001b[0m\n\u001b[1;32m     33\u001b[0m \u001b[0;31m# Menentukan jumlah cluster (k)\u001b[0m\u001b[0;34m\u001b[0m\u001b[0;34m\u001b[0m\u001b[0m\n",
            "\u001b[0;31mNameError\u001b[0m: name 'y' is not defined"
          ]
        }
      ]
    },
    {
      "cell_type": "markdown",
      "source": [
        "**TITANIC DATASET**"
      ],
      "metadata": {
        "id": "7s4Ck3Aoz77x"
      }
    },
    {
      "cell_type": "markdown",
      "source": [
        "Titanic Dataset merupakan suatu kumpulan data yang berisi mengenai informasi kapal RMS Titanic yang tenggelam sejak 15 April 1912. Kapal tersebut memakan banyak korban jiwa."
      ],
      "metadata": {
        "id": "ieyWDPL60IVZ"
      }
    },
    {
      "cell_type": "markdown",
      "source": [
        "Fitur-Fitur yang terdapat di Titanic dataset sebagai berikut:\n",
        "\n",
        "\n",
        "1.   Passenger ID\n",
        "2.   Name\n",
        "3.   Sex\n",
        "4.   Age\n",
        "5.   PClass\n",
        "6.   Survived\n",
        "7.   SibSP\n",
        "8.   Tiket\n",
        "9.   Fare\n",
        "10.  Cabin\n",
        "11.  Embarked\n",
        "\n"
      ],
      "metadata": {
        "id": "x9N2YHqH0mB7"
      }
    },
    {
      "cell_type": "code",
      "source": [
        "def menghapus_outlier(df):\n",
        "    print(\"\\n-- Menghapus Outlier --\")\n",
        "\n",
        "    # Menampilkan tabel sebelum penghapusan outlier\n",
        "    print(\"Sebelum penghapusan outlier:\")\n",
        "    print(tabulate(df.head(), headers='keys', tablefmt='psql'))\n",
        "\n",
        "    # Mengidentifikasi outlier menggunakan metode IQR\n",
        "    Q1 = df[['Age', 'Fare']].quantile(0.35)\n",
        "    Q3 = df[['Age', 'Fare']].quantile(0.90)\n",
        "    IQR = Q3 - Q1\n",
        "\n",
        "    # Mendefinisikan batas bawah dan batas atas untuk outlier\n",
        "    batas_bawah = Q1 - 3.5 * IQR\n",
        "    batas_atas = Q3 + 3.5 * IQR\n",
        "\n",
        "    # Menghapus outlier\n",
        "    df = df[~((df[['Age', 'Fare']] < batas_bawah) | (df[['Age', 'Fare']] > batas_atas)).any(axis=1)]\n",
        "\n",
        "    # Menampilkan tabel setelah penghapusan outlier\n",
        "    print(\"Tampilan Setelah penghapusan outlier:\")\n",
        "    print(tabulate(df.head(), headers='keys', tablefmt='psql'))\n",
        "\n",
        "    print(f\"Jumlah Baris Setelah: {df.shape[0]}\")\n",
        "    return df\n",
        "\n",
        "df_Titanic_dataset = hapus_outlier(df_Titanic_dataset)"
      ],
      "metadata": {
        "colab": {
          "base_uri": "https://localhost:8080/"
        },
        "id": "CgIWPmEeU9Lw",
        "outputId": "ddf421e9-23b0-41dc-8bd4-7d9f29a1788d"
      },
      "execution_count": null,
      "outputs": [
        {
          "output_type": "stream",
          "name": "stdout",
          "text": [
            "\n",
            "-- Menghapus Outlier --\n",
            "Sebelum penghapusan outlier:\n",
            "+----+----------------------------------------------------------------------------------------------------+------------+----------+--------+-------+-------+---------+---------+----------+--------+---------+------------+\n",
            "|    | PassengerId                                                                                        |   Survived |   Pclass |   Name |   Sex |   Age |   SibSp |   Parch |   Ticket |   Fare |   Cabin |   Embarked |\n",
            "|----+----------------------------------------------------------------------------------------------------+------------+----------+--------+-------+-------+---------+---------+----------+--------+---------+------------|\n",
            "|  0 | 1,0,3,\"Braund, Mr. Owen Harris\",male,22.0,1,0,A/5 21171,7.25,,S                                    |        nan |      nan |    nan |   nan |   nan |     nan |     nan |      nan |    nan |     nan |        nan |\n",
            "|  1 | 2,1,1,\"Cumings, Mrs. John Bradley (Florence Briggs Thayer)\",female,38.0,1,0,PC 17599,71.2833,C85,C |        nan |      nan |    nan |   nan |   nan |     nan |     nan |      nan |    nan |     nan |        nan |\n",
            "|  2 | 3,1,3,\"Heikkinen, Miss. Laina\",female,26.0,0,0,STON/O2. 3101282,7.925,,S                           |        nan |      nan |    nan |   nan |   nan |     nan |     nan |      nan |    nan |     nan |        nan |\n",
            "|  3 | 4,1,1,\"Futrelle, Mrs. Jacques Heath (Lily May Peel)\",female,35.0,1,0,113803,53.1,C123,S            |        nan |      nan |    nan |   nan |   nan |     nan |     nan |      nan |    nan |     nan |        nan |\n",
            "|  4 | 5,0,3,\"Allen, Mr. William Henry\",male,35.0,0,0,373450,8.05,,S                                      |        nan |      nan |    nan |   nan |   nan |     nan |     nan |      nan |    nan |     nan |        nan |\n",
            "+----+----------------------------------------------------------------------------------------------------+------------+----------+--------+-------+-------+---------+---------+----------+--------+---------+------------+\n",
            "Setelah penghapusan outlier:\n",
            "+----+----------------------------------------------------------------------------------------------------+------------+----------+--------+-------+-------+---------+---------+----------+--------+---------+------------+\n",
            "|    | PassengerId                                                                                        |   Survived |   Pclass |   Name |   Sex |   Age |   SibSp |   Parch |   Ticket |   Fare |   Cabin |   Embarked |\n",
            "|----+----------------------------------------------------------------------------------------------------+------------+----------+--------+-------+-------+---------+---------+----------+--------+---------+------------|\n",
            "|  0 | 1,0,3,\"Braund, Mr. Owen Harris\",male,22.0,1,0,A/5 21171,7.25,,S                                    |        nan |      nan |    nan |   nan |   nan |     nan |     nan |      nan |    nan |     nan |        nan |\n",
            "|  1 | 2,1,1,\"Cumings, Mrs. John Bradley (Florence Briggs Thayer)\",female,38.0,1,0,PC 17599,71.2833,C85,C |        nan |      nan |    nan |   nan |   nan |     nan |     nan |      nan |    nan |     nan |        nan |\n",
            "|  2 | 3,1,3,\"Heikkinen, Miss. Laina\",female,26.0,0,0,STON/O2. 3101282,7.925,,S                           |        nan |      nan |    nan |   nan |   nan |     nan |     nan |      nan |    nan |     nan |        nan |\n",
            "|  3 | 4,1,1,\"Futrelle, Mrs. Jacques Heath (Lily May Peel)\",female,35.0,1,0,113803,53.1,C123,S            |        nan |      nan |    nan |   nan |   nan |     nan |     nan |      nan |    nan |     nan |        nan |\n",
            "|  4 | 5,0,3,\"Allen, Mr. William Henry\",male,35.0,0,0,373450,8.05,,S                                      |        nan |      nan |    nan |   nan |   nan |     nan |     nan |      nan |    nan |     nan |        nan |\n",
            "+----+----------------------------------------------------------------------------------------------------+------------+----------+--------+-------+-------+---------+---------+----------+--------+---------+------------+\n",
            "Jumlah Baris Setelah: 891\n"
          ]
        }
      ]
    },
    {
      "cell_type": "markdown",
      "source": [
        "Menampilkan tampilan sebelum dan sesudah dilakukannya outlier. sesudah dilakukan nya outlier jumlah baris nya 891."
      ],
      "metadata": {
        "id": "acSWMaYC1mAj"
      }
    },
    {
      "cell_type": "code",
      "execution_count": null,
      "metadata": {
        "colab": {
          "base_uri": "https://localhost:8080/"
        },
        "collapsed": true,
        "id": "ikk-5sE_1W1k",
        "outputId": "753ef8d5-77fe-4c65-d3aa-f26fd8f8fac6"
      },
      "outputs": [
        {
          "output_type": "stream",
          "name": "stdout",
          "text": [
            "Data Awal:\n",
            "+----+----------------------------------------------------------------------------------------------------+------------+----------+--------+-------+-------+---------+---------+----------+--------+---------+------------+\n",
            "|    | PassengerId                                                                                        |   Survived |   Pclass |   Name |   Sex |   Age |   SibSp |   Parch |   Ticket |   Fare |   Cabin |   Embarked |\n",
            "|----+----------------------------------------------------------------------------------------------------+------------+----------+--------+-------+-------+---------+---------+----------+--------+---------+------------|\n",
            "|  0 | 1,0,3,\"Braund, Mr. Owen Harris\",male,22.0,1,0,A/5 21171,7.25,,S                                    |        nan |      nan |    nan |   nan |   nan |     nan |     nan |      nan |    nan |     nan |        nan |\n",
            "|  1 | 2,1,1,\"Cumings, Mrs. John Bradley (Florence Briggs Thayer)\",female,38.0,1,0,PC 17599,71.2833,C85,C |        nan |      nan |    nan |   nan |   nan |     nan |     nan |      nan |    nan |     nan |        nan |\n",
            "|  2 | 3,1,3,\"Heikkinen, Miss. Laina\",female,26.0,0,0,STON/O2. 3101282,7.925,,S                           |        nan |      nan |    nan |   nan |   nan |     nan |     nan |      nan |    nan |     nan |        nan |\n",
            "|  3 | 4,1,1,\"Futrelle, Mrs. Jacques Heath (Lily May Peel)\",female,35.0,1,0,113803,53.1,C123,S            |        nan |      nan |    nan |   nan |   nan |     nan |     nan |      nan |    nan |     nan |        nan |\n",
            "|  4 | 5,0,3,\"Allen, Mr. William Henry\",male,35.0,0,0,373450,8.05,,S                                      |        nan |      nan |    nan |   nan |   nan |     nan |     nan |      nan |    nan |     nan |        nan |\n",
            "+----+----------------------------------------------------------------------------------------------------+------------+----------+--------+-------+-------+---------+---------+----------+--------+---------+------------+\n"
          ]
        }
      ],
      "source": [
        "import pandas as pd\n",
        "from tabulate import tabulate\n",
        "\n",
        "import pandas as pd\n",
        "from tabulate import tabulate\n",
        "\n",
        "# Mengimpor Titanic dataset\n",
        "url = '/content/Titanic dataset.csv'\n",
        "df_Titanic_dataset = pd.read_csv(url)\n",
        "\n",
        "# Tampilkan data awal\n",
        "print(\"Data Awal:\")\n",
        "print(tabulate(df_Titanic_dataset.head(), headers='keys', tablefmt='psql'))"
      ]
    },
    {
      "cell_type": "markdown",
      "source": [
        "Hasil:\n",
        "Dataset yang diimpor data awal terdiri dari 892 baris dan 13 kolom."
      ],
      "metadata": {
        "id": "sk7c5ZWTMX4j"
      }
    },
    {
      "cell_type": "code",
      "source": [
        "from sklearn.preprocessing import MinMaxScaler\n",
        "\n",
        "# Mengimpor Titanic dataset\n",
        "url = '/content/Titanic dataset.csv'\n",
        "df_Titanic_dataset = pd.read_csv(url)\n",
        "\n",
        "def normalisasi_data(df):\n",
        "    print(\"\\n-- Normalisasi Data --\")\n",
        "    scaler = MinMaxScaler()\n",
        "\n",
        "    kolom_normalisasi = ['Age', 'Fare']\n",
        "    df[kolom_normalisasi] = scaler.fit_transform(df[kolom_normalisasi])\n",
        "\n",
        "    print(\"Data setelah normalisasi:\")\n",
        "    print(tabulate(df.head(), headers='keys', tablefmt='psql'))\n",
        "    return df\n",
        "\n",
        "df_Titanic_dataset = normalisasi_data(df_Titanic_dataset)"
      ],
      "metadata": {
        "colab": {
          "base_uri": "https://localhost:8080/"
        },
        "id": "Kz_6E65eN142",
        "outputId": "b556f112-c213-488a-a1b1-63bc6dc95ebf"
      },
      "execution_count": null,
      "outputs": [
        {
          "output_type": "stream",
          "name": "stdout",
          "text": [
            "\n",
            "-- Normalisasi Data --\n",
            "Data setelah normalisasi:\n",
            "+----+----------------------------------------------------------------------------------------------------+------------+----------+--------+-------+-------+---------+---------+----------+--------+---------+------------+\n",
            "|    | PassengerId                                                                                        |   Survived |   Pclass |   Name |   Sex |   Age |   SibSp |   Parch |   Ticket |   Fare |   Cabin |   Embarked |\n",
            "|----+----------------------------------------------------------------------------------------------------+------------+----------+--------+-------+-------+---------+---------+----------+--------+---------+------------|\n",
            "|  0 | 1,0,3,\"Braund, Mr. Owen Harris\",male,22.0,1,0,A/5 21171,7.25,,S                                    |        nan |      nan |    nan |   nan |   nan |     nan |     nan |      nan |    nan |     nan |        nan |\n",
            "|  1 | 2,1,1,\"Cumings, Mrs. John Bradley (Florence Briggs Thayer)\",female,38.0,1,0,PC 17599,71.2833,C85,C |        nan |      nan |    nan |   nan |   nan |     nan |     nan |      nan |    nan |     nan |        nan |\n",
            "|  2 | 3,1,3,\"Heikkinen, Miss. Laina\",female,26.0,0,0,STON/O2. 3101282,7.925,,S                           |        nan |      nan |    nan |   nan |   nan |     nan |     nan |      nan |    nan |     nan |        nan |\n",
            "|  3 | 4,1,1,\"Futrelle, Mrs. Jacques Heath (Lily May Peel)\",female,35.0,1,0,113803,53.1,C123,S            |        nan |      nan |    nan |   nan |   nan |     nan |     nan |      nan |    nan |     nan |        nan |\n",
            "|  4 | 5,0,3,\"Allen, Mr. William Henry\",male,35.0,0,0,373450,8.05,,S                                      |        nan |      nan |    nan |   nan |   nan |     nan |     nan |      nan |    nan |     nan |        nan |\n",
            "+----+----------------------------------------------------------------------------------------------------+------------+----------+--------+-------+-------+---------+---------+----------+--------+---------+------------+\n"
          ]
        },
        {
          "output_type": "stream",
          "name": "stderr",
          "text": [
            "/usr/local/lib/python3.10/dist-packages/sklearn/utils/_array_api.py:695: RuntimeWarning: All-NaN slice encountered\n",
            "  return xp.asarray(numpy.nanmin(X, axis=axis))\n",
            "/usr/local/lib/python3.10/dist-packages/sklearn/utils/_array_api.py:712: RuntimeWarning: All-NaN slice encountered\n",
            "  return xp.asarray(numpy.nanmax(X, axis=axis))\n"
          ]
        }
      ]
    },
    {
      "cell_type": "code",
      "source": [],
      "metadata": {
        "id": "n9WrTgiI80mp"
      },
      "execution_count": null,
      "outputs": []
    }
  ]
}